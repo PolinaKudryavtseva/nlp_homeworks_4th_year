{
  "nbformat": 4,
  "nbformat_minor": 0,
  "metadata": {
    "colab": {
      "name": "hw1.ipynb",
      "provenance": [],
      "collapsed_sections": []
    },
    "kernelspec": {
      "name": "python3",
      "display_name": "Python 3"
    },
    "language_info": {
      "name": "python"
    }
  },
  "cells": [
    {
      "cell_type": "markdown",
      "metadata": {
        "id": "CIiWiI4zAyGp"
      },
      "source": [
        "**Домашнее задание Полны Кудрявцевой, БКЛ182**"
      ]
    },
    {
      "cell_type": "code",
      "metadata": {
        "colab": {
          "base_uri": "https://localhost:8080/"
        },
        "id": "N0Xj4mlSIj6j",
        "outputId": "ff345b39-52ad-495c-80aa-af680531a144"
      },
      "source": [
        "import os\n",
        "import pandas as pd\n",
        "from pymorphy2 import MorphAnalyzer\n",
        "from pymorphy2.tokenizers import simple_word_tokenize\n",
        "import numpy as np\n",
        "import RAKE\n",
        "import nltk\n",
        "nltk.download('stopwords')\n",
        "from nltk.corpus import stopwords\n",
        "from pymorphy2 import MorphAnalyzer\n",
        "from pymorphy2.tokenizers import simple_word_tokenize\n",
        "from summa import keywords\n",
        "from sklearn.feature_extraction.text import TfidfVectorizer\n",
        "\n",
        "m = MorphAnalyzer()\n",
        "stop_words = stopwords.words('russian')"
      ],
      "execution_count": null,
      "outputs": [
        {
          "output_type": "stream",
          "name": "stdout",
          "text": [
            "[nltk_data] Downloading package stopwords to /root/nltk_data...\n",
            "[nltk_data]   Package stopwords is already up-to-date!\n"
          ]
        }
      ]
    },
    {
      "cell_type": "code",
      "metadata": {
        "id": "dS5A4NBl6_Pm"
      },
      "source": [
        "! pip install pymorphy2"
      ],
      "execution_count": null,
      "outputs": []
    },
    {
      "cell_type": "code",
      "metadata": {
        "id": "iQfjgx3v6_YV"
      },
      "source": [
        "! pip install python-rake"
      ],
      "execution_count": null,
      "outputs": []
    },
    {
      "cell_type": "code",
      "metadata": {
        "id": "BBJajWLhdCMb"
      },
      "source": [
        "! pip install summa"
      ],
      "execution_count": null,
      "outputs": []
    },
    {
      "cell_type": "markdown",
      "metadata": {
        "id": "p4wSA_ZaA7gu"
      },
      "source": [
        "**Мини-корпус**\n",
        "\n",
        "Для выполнения задания были отобраны четыре статьи с habr.com, по поиску по слову \"кино\" - на сопутствующие темы. На habr.com, как мне кажется, тэги являются в действительности ключевыми словами, а не просто тэгами по теме - они выделяют важные слова из текста.\n",
        "\n",
        "Тексты были собраны в .txt файлы, первая строка в которых - ключевые слова с сайта habr.com, вторая - мои ключевые слова, третья - текст.\n",
        "\n",
        "*Тексты составили примерно 6 тысяч токенов.*"
      ]
    },
    {
      "cell_type": "code",
      "metadata": {
        "id": "QuZEu4nHYjPq"
      },
      "source": [
        "def get_text_keywords(filename):\n",
        "    with open(filename, 'r', encoding='maccyrillic') as f:\n",
        "        filetext = f.read()\n",
        "    parts = filetext.split('\\n')\n",
        "    orig_keywords = parts[0]\n",
        "    my_keywords = parts[1]\n",
        "    text = parts[2]\n",
        "    return orig_keywords, my_keywords, text"
      ],
      "execution_count": null,
      "outputs": []
    },
    {
      "cell_type": "code",
      "metadata": {
        "colab": {
          "base_uri": "https://localhost:8080/"
        },
        "id": "M6hyMjfvIE0d",
        "outputId": "b54b00a3-a6f1-4774-9e3a-12179756dd08"
      },
      "source": [
        "links = ['https://habr.com/ru/company/timeweb/blog/586582/', 'https://habr.com/ru/company/plarium/blog/389469/',\n",
        "         'https://habr.com/ru/post/504056/', 'https://habr.com/ru/post/393729/']\n",
        "list_orig_keywords = []\n",
        "list_my_keywords = []\n",
        "texts = []\n",
        "for filename in os.listdir('/content/drive/MyDrive/Colab Notebooks/Автобрея'):\n",
        "    if filename.endswith('.txt'):\n",
        "        print('Скачано: ', filename)\n",
        "        orig_keywords, my_keywords, text = get_text_keywords('/content/drive/MyDrive/Colab Notebooks/Автобрея/'+filename)\n",
        "        list_orig_keywords.append(orig_keywords)\n",
        "        list_my_keywords.append(my_keywords)\n",
        "        texts.append(text)"
      ],
      "execution_count": null,
      "outputs": [
        {
          "output_type": "stream",
          "name": "stdout",
          "text": [
            "Скачано:  Голос VHS: Василий Горчаков об озвучке кино и компьютерных игр.txt\n",
            "Скачано:  Кино и космос.txt\n",
            "Скачано:  Экстрасенсорные шпионы из Китая пытаются украсть восторг вашего разума: дроны в кино.txt\n",
            "Скачано:  Эффект звона в ушах в кино.txt\n"
          ]
        }
      ]
    },
    {
      "cell_type": "markdown",
      "metadata": {
        "id": "6lKPQBrvCfJH"
      },
      "source": [
        "Тексты и ключевые слова собираю в датафрейм."
      ]
    },
    {
      "cell_type": "code",
      "metadata": {
        "colab": {
          "base_uri": "https://localhost:8080/",
          "height": 241
        },
        "id": "kKTrDbw4HGFJ",
        "outputId": "1145946d-7556-423b-d207-56932a07bb9d"
      },
      "source": [
        "df = pd.DataFrame(links, columns = ['link'])\n",
        "df['link'] = links\n",
        "df['original_keywords'] = list_orig_keywords\n",
        "df['my_keywords'] = list_my_keywords\n",
        "df['text'] = texts\n",
        "df"
      ],
      "execution_count": null,
      "outputs": [
        {
          "output_type": "execute_result",
          "data": {
            "text/html": [
              "<div>\n",
              "<style scoped>\n",
              "    .dataframe tbody tr th:only-of-type {\n",
              "        vertical-align: middle;\n",
              "    }\n",
              "\n",
              "    .dataframe tbody tr th {\n",
              "        vertical-align: top;\n",
              "    }\n",
              "\n",
              "    .dataframe thead th {\n",
              "        text-align: right;\n",
              "    }\n",
              "</style>\n",
              "<table border=\"1\" class=\"dataframe\">\n",
              "  <thead>\n",
              "    <tr style=\"text-align: right;\">\n",
              "      <th></th>\n",
              "      <th>link</th>\n",
              "      <th>original_keywords</th>\n",
              "      <th>my_keywords</th>\n",
              "      <th>text</th>\n",
              "    </tr>\n",
              "  </thead>\n",
              "  <tbody>\n",
              "    <tr>\n",
              "      <th>0</th>\n",
              "      <td>https://habr.com/ru/company/timeweb/blog/586582/</td>\n",
              "      <td>чужой, хищник, перевод, VHS, локализация, пере...</td>\n",
              "      <td>горчаков, чужой против хищник, игра конфликт, ...</td>\n",
              "      <td>Недавно один из легендарных переводчиков эпохи...</td>\n",
              "    </tr>\n",
              "    <tr>\n",
              "      <th>1</th>\n",
              "      <td>https://habr.com/ru/company/plarium/blog/389469/</td>\n",
              "      <td>история космонавтика, история кино, кино в кос...</td>\n",
              "      <td>шипенко, пересильд, шкаплеров, новицкий, кино ...</td>\n",
              "      <td>Недавно благополучно завершился полет киноэкип...</td>\n",
              "    </tr>\n",
              "    <tr>\n",
              "      <th>2</th>\n",
              "      <td>https://habr.com/ru/post/504056/</td>\n",
              "      <td>кинодрон, БПЛА, кино, dpi, hollywood</td>\n",
              "      <td>кинодрон, робототехника в кино, motion capture...</td>\n",
              "      <td>История о нашем первом проекте с кинодронами. ...</td>\n",
              "    </tr>\n",
              "    <tr>\n",
              "      <th>3</th>\n",
              "      <td>https://habr.com/ru/post/393729/</td>\n",
              "      <td>тиннитус, работа со звук, кинозвук</td>\n",
              "      <td>звуковой эффект, киноэффект, тиннитус</td>\n",
              "      <td>В фильме с повествованием от первого лица прои...</td>\n",
              "    </tr>\n",
              "  </tbody>\n",
              "</table>\n",
              "</div>"
            ],
            "text/plain": [
              "                                               link  ...                                               text\n",
              "0  https://habr.com/ru/company/timeweb/blog/586582/  ...  Недавно один из легендарных переводчиков эпохи...\n",
              "1  https://habr.com/ru/company/plarium/blog/389469/  ...  Недавно благополучно завершился полет киноэкип...\n",
              "2                  https://habr.com/ru/post/504056/  ...  История о нашем первом проекте с кинодронами. ...\n",
              "3                  https://habr.com/ru/post/393729/  ...  В фильме с повествованием от первого лица прои...\n",
              "\n",
              "[4 rows x 4 columns]"
            ]
          },
          "metadata": {},
          "execution_count": 4
        }
      ]
    },
    {
      "cell_type": "markdown",
      "metadata": {
        "id": "lwiVscvJCoEm"
      },
      "source": [
        "Можно посмотреть на них поближе.\n",
        "\n",
        "В моих ключевых словах больше слов из текста, чем в выделенных на сайте - я учитываю имена личностей, которые имеют важную роль в тексте, и беру их фамилии; в ключевых словах на сайте по какой-то непонятной схеме были взяты термины из текста вроде БПЛА, которые упоминались там всего раз или два - такие случаи я не учитывала."
      ]
    },
    {
      "cell_type": "code",
      "metadata": {
        "colab": {
          "base_uri": "https://localhost:8080/"
        },
        "id": "pizZU_7w_4bt",
        "outputId": "1730afce-5907-46f4-cc11-530fcd8091d3"
      },
      "source": [
        "for i in range(4):\n",
        "    print('Данные ключ. слова:', df['original_keywords'].iloc[i])\n",
        "    print('Мои ключ. слова:', df['my_keywords'].iloc[i])\n",
        "    print('\\n')"
      ],
      "execution_count": null,
      "outputs": [
        {
          "output_type": "stream",
          "name": "stdout",
          "text": [
            "Данные ключ. слова: чужой, хищник, перевод, VHS, локализация, переводчик, горчаков, интервью, кино\n",
            "Мои ключ. слова: горчаков, чужой против хищник, игра конфликт, перевод, перевод кино, перевод игра, голос озвучка, озвучивание фильмов\n",
            "\n",
            "\n",
            "Данные ключ. слова: история космонавтика, история кино, кино в космос, космос в кино, невесомость в кино, невесомость, спецэффект\n",
            "Мои ключ. слова: шипенко, пересильд, шкаплеров, новицкий, кино в космосе, история кино, спецэффект, научная фантастика, невесомость, вызов, история космонавтика\n",
            "\n",
            "\n",
            "Данные ключ. слова: кинодрон, БПЛА, кино, dpi, hollywood\n",
            "Мои ключ. слова: кинодрон, робототехника в кино, motion capture, фотограмметрия, камера\n",
            "\n",
            "\n",
            "Данные ключ. слова: тиннитус, работа со звук, кинозвук\n",
            "Мои ключ. слова: звуковой эффект, киноэффект, тиннитус\n",
            "\n",
            "\n"
          ]
        }
      ]
    },
    {
      "cell_type": "markdown",
      "metadata": {
        "id": "PnbewzldDIMZ"
      },
      "source": [
        "Я думаю, и мои, и ключевые слова на сайте отобраны вполне нормально.\n",
        "Термины, которые встречаются в тексте пару раз, я думаю, в конечном итоге тоже важны - и правда могут являться ключевыми словами.\n",
        "Можно совместить списки и убрать дубли - получается список эталонных ключевых слов в колонке ideal."
      ]
    },
    {
      "cell_type": "code",
      "metadata": {
        "id": "nRzdN0biDpow"
      },
      "source": [
        "list_ideal = []\n",
        "for y in range(4):\n",
        "    small_list = []\n",
        "    for i in df['my_keywords'].iloc[y].split(', '):\n",
        "        small_list.append(i)\n",
        "    for i in df['original_keywords'].iloc[y].split(', '):\n",
        "        small_list.append(i)\n",
        "    new_small_list = ', '.join(list(set(small_list)))\n",
        "    list_ideal.append(new_small_list)\n",
        "df['ideal'] = list_ideal"
      ],
      "execution_count": null,
      "outputs": []
    },
    {
      "cell_type": "code",
      "metadata": {
        "colab": {
          "base_uri": "https://localhost:8080/",
          "height": 326
        },
        "id": "yevMu64_IEA0",
        "outputId": "1fe43a90-0699-4cba-f8c4-8896e5a955a1"
      },
      "source": [
        "df"
      ],
      "execution_count": null,
      "outputs": [
        {
          "output_type": "execute_result",
          "data": {
            "text/html": [
              "<div>\n",
              "<style scoped>\n",
              "    .dataframe tbody tr th:only-of-type {\n",
              "        vertical-align: middle;\n",
              "    }\n",
              "\n",
              "    .dataframe tbody tr th {\n",
              "        vertical-align: top;\n",
              "    }\n",
              "\n",
              "    .dataframe thead th {\n",
              "        text-align: right;\n",
              "    }\n",
              "</style>\n",
              "<table border=\"1\" class=\"dataframe\">\n",
              "  <thead>\n",
              "    <tr style=\"text-align: right;\">\n",
              "      <th></th>\n",
              "      <th>link</th>\n",
              "      <th>original_keywords</th>\n",
              "      <th>my_keywords</th>\n",
              "      <th>text</th>\n",
              "      <th>ideal</th>\n",
              "    </tr>\n",
              "  </thead>\n",
              "  <tbody>\n",
              "    <tr>\n",
              "      <th>0</th>\n",
              "      <td>https://habr.com/ru/company/timeweb/blog/586582/</td>\n",
              "      <td>чужой, хищник, перевод, VHS, локализация, пере...</td>\n",
              "      <td>горчаков, чужой против хищник, игра конфликт, ...</td>\n",
              "      <td>Недавно один из легендарных переводчиков эпохи...</td>\n",
              "      <td>игра конфликт, озвучивание фильмов, VHS, перев...</td>\n",
              "    </tr>\n",
              "    <tr>\n",
              "      <th>1</th>\n",
              "      <td>https://habr.com/ru/company/plarium/blog/389469/</td>\n",
              "      <td>история космонавтика, история кино, кино в кос...</td>\n",
              "      <td>шипенко, пересильд, шкаплеров, новицкий, кино ...</td>\n",
              "      <td>Недавно благополучно завершился полет киноэкип...</td>\n",
              "      <td>невесомость в кино, вызов, новицкий, спецэффек...</td>\n",
              "    </tr>\n",
              "    <tr>\n",
              "      <th>2</th>\n",
              "      <td>https://habr.com/ru/post/504056/</td>\n",
              "      <td>кинодрон, БПЛА, кино, dpi, hollywood</td>\n",
              "      <td>кинодрон, робототехника в кино, motion capture...</td>\n",
              "      <td>История о нашем первом проекте с кинодронами. ...</td>\n",
              "      <td>БПЛА, motion capture, кино, кинодрон, фотограм...</td>\n",
              "    </tr>\n",
              "    <tr>\n",
              "      <th>3</th>\n",
              "      <td>https://habr.com/ru/post/393729/</td>\n",
              "      <td>тиннитус, работа со звук, кинозвук</td>\n",
              "      <td>звуковой эффект, киноэффект, тиннитус</td>\n",
              "      <td>В фильме с повествованием от первого лица прои...</td>\n",
              "      <td>работа со звук, звуковой эффект, тиннитус, кин...</td>\n",
              "    </tr>\n",
              "  </tbody>\n",
              "</table>\n",
              "</div>"
            ],
            "text/plain": [
              "                                               link  ...                                              ideal\n",
              "0  https://habr.com/ru/company/timeweb/blog/586582/  ...  игра конфликт, озвучивание фильмов, VHS, перев...\n",
              "1  https://habr.com/ru/company/plarium/blog/389469/  ...  невесомость в кино, вызов, новицкий, спецэффек...\n",
              "2                  https://habr.com/ru/post/504056/  ...  БПЛА, motion capture, кино, кинодрон, фотограм...\n",
              "3                  https://habr.com/ru/post/393729/  ...  работа со звук, звуковой эффект, тиннитус, кин...\n",
              "\n",
              "[4 rows x 5 columns]"
            ]
          },
          "metadata": {},
          "execution_count": 7
        }
      ]
    },
    {
      "cell_type": "markdown",
      "metadata": {
        "id": "P7ECJD73D6op"
      },
      "source": [
        "Попробую три метода извлечения ключевых слов - RAKE, TextRank и TF-IDF."
      ]
    },
    {
      "cell_type": "code",
      "metadata": {
        "id": "NJo2h22vcy53"
      },
      "source": [
        "def normalize_text(text):\n",
        "    lemmas = []\n",
        "    for t in simple_word_tokenize(text):\n",
        "        lemmas.append(\n",
        "            m.parse(t)[0].normal_form\n",
        "        )\n",
        "    return ' '.join(lemmas)"
      ],
      "execution_count": null,
      "outputs": []
    },
    {
      "cell_type": "code",
      "metadata": {
        "id": "HXBzr3zGdQB1"
      },
      "source": [
        "lemma_texts = [normalize_text(text) for text in df['text'].values]"
      ],
      "execution_count": null,
      "outputs": []
    },
    {
      "cell_type": "code",
      "metadata": {
        "id": "A_4AoLEnETtm"
      },
      "source": [
        "stop_words.append('который')\n",
        "stop_words.append('это')\n",
        "stop_words.append('нужный')"
      ],
      "execution_count": null,
      "outputs": []
    },
    {
      "cell_type": "code",
      "metadata": {
        "id": "wegRCyrYgTYa"
      },
      "source": [
        "rake = RAKE.Rake(stop_words)\n",
        "rake_words_numbers = [rake.run(lemma_text, maxWords=2, minFrequency=2) for lemma_text in lemma_texts]\n",
        "rake_words = []\n",
        "for i in range(4):\n",
        "    rake_words.append(', '.join(word[0] for word in rake_words_numbers[i]))\n",
        "df['RAKE'] = rake_words"
      ],
      "execution_count": null,
      "outputs": []
    },
    {
      "cell_type": "code",
      "metadata": {
        "colab": {
          "base_uri": "https://localhost:8080/"
        },
        "id": "ciZjuCpn-pY6",
        "outputId": "0dd52dcb-8410-44a1-dfd7-5e6cd85cd677"
      },
      "source": [
        "for i in range(4):\n",
        "    print('Rake:', df['RAKE'].iloc[i])\n",
        "    print('Мои ключ. слова:', df['my_keywords'].iloc[i])\n",
        "    print('\\n')"
      ],
      "execution_count": null,
      "outputs": [
        {
          "output_type": "stream",
          "name": "stdout",
          "text": [
            "Rake: мочь переводить, честно говорить, переводить фильм, говорить актёр, голос, переводить, актёр, кино, фильм, что-, говорить, человек, какой-, знать, видеть, интересно, перевод, посмотреть, недавно, сеттинг, считать, хотя, участвовать, скажем, думать, наверное, экран, например, ранний, кроме, смотреть, сказать, ощущение, хотеть, картина, слышать, играть, работать, встречаться, помнить, озвучивать, наоборот, стараться, «, »\n",
            "Мои ключ. слова: горчаков, чужой против хищник, игра конфликт, перевод, перевод кино, перевод игра, голос озвучка, озвучивание фильмов\n",
            "\n",
            "\n",
            "Rake: настоящий невесомость, скорее весь, снятой космонавт, история кино, космос кадр, актёр, фильм, кадр, ракета, космонавтика, снятой, время, выйти, камера, орбита ”, известный, стать, полёт, стоять, запустить, всё, космос, снять, кино, “ женщина, оказаться, правда, ещё, земля, какой-, трос, видео, второй, иллюминатор, очень, результат, человечество, фон, например, встретить, хотеть, отправиться, мкс, полететь, увы, ”\n",
            "Мои ключ. слова: шипенко, пересильд, шкаплеров, новицкий, кино в космосе, история кино, спецэффект, научная фантастика, невесомость, вызов, история космонавтика\n",
            "\n",
            "\n",
            "Rake: следующий часть, управлять дрон, автономный дрон, процесс съёмка, летать камера, компания, камера, работа, дрон, использовать, технология, dji, использоваться, ещё, связать, кадр, оператор, предпросмотр, робототехника, робот, кино, кинодрон, тема, начать, например, сказать, похоже, недавно, сделать, развлечение, целое, кстати, киносъёмка, смотреть, человек, вертолёт, добавить, повторяемость, «\n",
            "Мои ключ. слова: кинодрон, робототехника в кино, motion capture, фотограмметрия, камера\n",
            "\n",
            "\n",
            "Rake: первый лицо, фильм, кино, звон, повествование, свист, мозг, ухо, тиннитус —, ухо —, взрыв, дело, большой, частота, пример, год, лишь\n",
            "Мои ключ. слова: звуковой эффект, киноэффект, тиннитус\n",
            "\n",
            "\n"
          ]
        }
      ]
    },
    {
      "cell_type": "markdown",
      "metadata": {
        "id": "nyK0TbGnFU6o"
      },
      "source": [
        "По RAKE, выделяется много глаголов и глагольных групп. Ключевых слов, возможно, слишком много. Многие ключевые слова повторяют друг друга, но, в целом, они соответствуют текстам. "
      ]
    },
    {
      "cell_type": "code",
      "metadata": {
        "id": "KAC3AA9MihgJ"
      },
      "source": [
        "textrank_words_numbers = [keywords.keywords(lemma_text, language='russian', \n",
        "                  additional_stopwords=stop_words, scores=True, ratio=0.05) for lemma_text in lemma_texts]\n",
        "textrank_words = []\n",
        "for i in range(4):\n",
        "    textrank_words.append(', '.join(word[0] for word in textrank_words_numbers[i]))\n",
        "df['TextRank'] = textrank_words"
      ],
      "execution_count": null,
      "outputs": []
    },
    {
      "cell_type": "code",
      "metadata": {
        "id": "-fVHGUA7i_e3",
        "colab": {
          "base_uri": "https://localhost:8080/"
        },
        "outputId": "8af8a049-08c2-4387-d214-d8807fb26043"
      },
      "source": [
        "for i in range(4):\n",
        "    print('TextRank:', df['TextRank'].iloc[i])\n",
        "    print('Мои ключ. слова:', df['my_keywords'].iloc[i])\n",
        "    print('\\n')"
      ],
      "execution_count": null,
      "outputs": [
        {
          "output_type": "stream",
          "name": "stdout",
          "text": [
            "TextRank: фильм, перевод, переводить, игра, голос, актёр, переводчик, новый, свой, кино, год, поэтому, очень, говорить, первый, огромный, появиться, время, особенный, особенно, хороший\n",
            "Мои ключ. слова: горчаков, чужой против хищник, игра конфликт, перевод, перевод кино, перевод игра, голос озвучка, озвучивание фильмов\n",
            "\n",
            "\n",
            "TextRank: фильм, космонавт, снятой, снять, орбита стать первый, автоматический космический, камера, год, станция, лунный ракета, полёт, кадр, космос, больший, большой, картина, актёр, время, астронавт, показать, корабль, снимать, весь, космонавтика, выйти, появиться, луна, невесомость, затем, всё, сделать, женщина, технология, сценарий, автоматически, летать, американский\n",
            "Мои ключ. слова: шипенко, пересильд, шкаплеров, новицкий, кино в космосе, история кино, спецэффект, научная фантастика, невесомость, вызов, история космонавтика\n",
            "\n",
            "\n",
            "TextRank: дрон, dji, технология, использовать, использоваться, камера, время, съёмка, робот, всё, система, ещё, компания, кино, наш первый проект, работа, движение, часто, частый, часть, кадр, it, профессиональный, d, оператор, управление\n",
            "Мои ключ. слова: кинодрон, робототехника в кино, motion capture, фотограмметрия, камера\n",
            "\n",
            "\n",
            "TextRank: звон, ухо, уха, часто, частый, тиннитус, эффект, шум, часть слух, фильм, год, травма персонаж, кино, громкий, выстрел, тишина, свист, первый, of, свой, идти, слышать, частота\n",
            "Мои ключ. слова: звуковой эффект, киноэффект, тиннитус\n",
            "\n",
            "\n"
          ]
        }
      ]
    },
    {
      "cell_type": "markdown",
      "metadata": {
        "id": "j2QI2X6EFp52"
      },
      "source": [
        "По TextRank, выделяются, в основном, существительные и именные гуппы. Ключевые слова тоже иногда повторяют друг друга - один смысл разных частей речи. Но результат, на вид, лучше, чем по RAKE."
      ]
    },
    {
      "cell_type": "code",
      "metadata": {
        "id": "OGX5SsWejHTg"
      },
      "source": [
        "vectorizer = TfidfVectorizer(stop_words=stop_words, ngram_range=(1, 2))\n",
        "tfidf = vectorizer.fit_transform(lemma_texts)\n",
        "\n",
        "tfidf_words = []\n",
        "for i in range(len(lemma_texts)):\n",
        "    features = np.array(vectorizer.get_feature_names())\n",
        "    sorted_indices = np.argsort(tfidf[i].toarray()).ravel()[::-1]\n",
        "    keywords = features[sorted_indices][:10]\n",
        "    tfidf_words.append(keywords)\n",
        "\n",
        "df['TF-IDF'] = tfidf_words"
      ],
      "execution_count": null,
      "outputs": []
    },
    {
      "cell_type": "code",
      "metadata": {
        "colab": {
          "base_uri": "https://localhost:8080/"
        },
        "id": "gk3HDvQ3yJMH",
        "outputId": "69a63d2b-4cd1-4fff-860a-9437b69f46b1"
      },
      "source": [
        "for i in range(4):\n",
        "    print('TF-IDF:', ','.join(tfidf_words[i]))\n",
        "    print('Мои ключ. слова:', df['my_keywords'].iloc[i])\n",
        "    print('\\n')"
      ],
      "execution_count": null,
      "outputs": [
        {
          "output_type": "stream",
          "name": "stdout",
          "text": [
            "TF-IDF: фильм,переводить,голос,игра,говорить,актёр,переводчик,перевод,хищник,год\n",
            "Мои ключ. слова: горчаков, чужой против хищник, игра конфликт, перевод, перевод кино, перевод игра, голос озвучка, озвучивание фильмов\n",
            "\n",
            "\n",
            "TF-IDF: космос,космонавт,космический,ракета,год,снятой,фильм,камера,орбита,станция\n",
            "Мои ключ. слова: шипенко, пересильд, шкаплеров, новицкий, кино в космосе, история кино, спецэффект, научная фантастика, невесомость, вызов, история космонавтика\n",
            "\n",
            "\n",
            "TF-IDF: дрон,робот,dji,камера,кино,использоваться,технология,движение,компания,съёмка\n",
            "Мои ключ. слова: кинодрон, робототехника в кино, motion capture, фотограмметрия, камера\n",
            "\n",
            "\n",
            "TF-IDF: звон,ухо,тиннитус,травма,год,частота,шум,эффект,персонаж,внутренний\n",
            "Мои ключ. слова: звуковой эффект, киноэффект, тиннитус\n",
            "\n",
            "\n"
          ]
        }
      ]
    },
    {
      "cell_type": "markdown",
      "metadata": {
        "id": "fWE33WaEF8Fp"
      },
      "source": [
        "По TF-IDF я взяла всего 10 слов, и это, кажется, было верным решением - выделились только основные ключевые слова, которые дополняют мои ключевые слова. Иногда они тоже смыслово друг друга повторяют, но точно отражают свои тексты. На вид, думаю, это лучший результат."
      ]
    },
    {
      "cell_type": "code",
      "metadata": {
        "colab": {
          "base_uri": "https://localhost:8080/"
        },
        "id": "GcGJJEGOba4W",
        "outputId": "af8b776e-744d-41f9-fb38-dc4ef9437349"
      },
      "source": [
        "def get_patterns(df):\n",
        "    pos_patterns = []\n",
        "    for keywords in df['ideal'].values:\n",
        "        keyword = keywords.split(',')\n",
        "        for word in keyword:\n",
        "            tokens = word.split(' ')\n",
        "            pos = [m.parse(t)[0].tag.POS for t in tokens]\n",
        "            if None in pos:\n",
        "                pattern = ''\n",
        "            else:\n",
        "                pattern = '+'.join(pos)\n",
        "            pos_patterns.append(pattern)\n",
        "    return set(pos_patterns)\n",
        "pos_patterns = get_patterns(df)\n",
        "pos_patterns"
      ],
      "execution_count": null,
      "outputs": [
        {
          "output_type": "execute_result",
          "data": {
            "text/plain": [
              "{'', 'NOUN+NOUN', 'NOUN+PREP+NOUN', 'VERB'}"
            ]
          },
          "metadata": {},
          "execution_count": 18
        }
      ]
    },
    {
      "cell_type": "markdown",
      "metadata": {
        "id": "MB-K8jUqGoQY"
      },
      "source": [
        "Получается, как и на вид, морфологические шаблоны ключевых слов - именные группы из существительных и одиночные глаголы."
      ]
    },
    {
      "cell_type": "code",
      "metadata": {
        "id": "XS3-9PycUD_j"
      },
      "source": [
        "def filter(keywords, pos_patterns):\n",
        "    filtered = []\n",
        "    for word in keywords:\n",
        "        tokens = word.split(' ')\n",
        "        pos = [m.parse(t)[0].tag.POS for t in tokens]\n",
        "        if None in pos:\n",
        "            pattern = ''\n",
        "        else:\n",
        "            pattern = '+'.join(pos)\n",
        "        if pattern in pos_patterns:\n",
        "            filtered.append(word)\n",
        "    return filtered"
      ],
      "execution_count": 24,
      "outputs": []
    },
    {
      "cell_type": "code",
      "metadata": {
        "id": "R3t0RPoxUPo6"
      },
      "source": [
        "rake_filtered = [filter(words, pos_patterns) for words in df['RAKE']]\n",
        "textrank_filtered = [filter(words, pos_patterns) for words in df['TextRank']]\n",
        "tfidf_filtered = [filter(words, pos_patterns) for words in df['TF-IDF']]"
      ],
      "execution_count": 25,
      "outputs": []
    }
  ]
}