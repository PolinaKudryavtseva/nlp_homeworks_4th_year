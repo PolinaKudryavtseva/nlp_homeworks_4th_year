{
  "nbformat": 4,
  "nbformat_minor": 0,
  "metadata": {
    "colab": {
      "name": "hw1.ipynb",
      "provenance": [],
      "collapsed_sections": []
    },
    "kernelspec": {
      "name": "python3",
      "display_name": "Python 3"
    },
    "language_info": {
      "name": "python"
    }
  },
  "cells": [
    {
      "cell_type": "markdown",
      "metadata": {
        "id": "CIiWiI4zAyGp"
      },
      "source": [
        "**Домашнее задание Полны Кудрявцевой, БКЛ182**"
      ]
    },
    {
      "cell_type": "code",
      "metadata": {
        "colab": {
          "base_uri": "https://localhost:8080/"
        },
        "id": "N0Xj4mlSIj6j",
        "outputId": "54b80efc-e6d1-4d5f-a349-2543dffccbe8"
      },
      "source": [
        "import os\n",
        "import pandas as pd\n",
        "from pymorphy2 import MorphAnalyzer\n",
        "from pymorphy2.tokenizers import simple_word_tokenize\n",
        "import numpy as np\n",
        "import RAKE\n",
        "import nltk\n",
        "nltk.download('stopwords')\n",
        "from nltk.corpus import stopwords\n",
        "from pymorphy2 import MorphAnalyzer\n",
        "from pymorphy2.tokenizers import simple_word_tokenize\n",
        "from summa import keywords\n",
        "from sklearn.feature_extraction.text import TfidfVectorizer\n",
        "\n",
        "m = MorphAnalyzer()\n",
        "stop_words = stopwords.words('russian')"
      ],
      "execution_count": 1,
      "outputs": [
        {
          "output_type": "stream",
          "name": "stdout",
          "text": [
            "[nltk_data] Downloading package stopwords to /root/nltk_data...\n",
            "[nltk_data]   Package stopwords is already up-to-date!\n"
          ]
        }
      ]
    },
    {
      "cell_type": "markdown",
      "metadata": {
        "id": "p4wSA_ZaA7gu"
      },
      "source": [
        "**Мини-корпус**\n",
        "\n",
        "Для выполнения задания были отобраны четыре статьи с habr.com, по поиску по слову \"кино\" - на сопутствующие темы. На habr.com, как мне кажется, тэги являются в действительности ключевыми словами, а не просто тэгами по теме - они выделяют важные слова из текста.\n",
        "\n",
        "Тексты были собраны в .txt файлы, первая строка в которых - ключевые слова с сайта habr.com, вторая - мои ключевые слова, третья - текст.\n",
        "\n",
        "*Тексты составили примерно 6 тысяч токенов.*"
      ]
    },
    {
      "cell_type": "code",
      "metadata": {
        "id": "QuZEu4nHYjPq"
      },
      "source": [
        "def get_text_keywords(filename):\n",
        "    with open(filename, 'r', encoding='maccyrillic') as f:\n",
        "        filetext = f.read()\n",
        "    parts = filetext.split('\\n')\n",
        "    orig_keywords = parts[0]\n",
        "    my_keywords = parts[1]\n",
        "    text = parts[2]\n",
        "    return orig_keywords, my_keywords, text"
      ],
      "execution_count": 5,
      "outputs": []
    },
    {
      "cell_type": "code",
      "metadata": {
        "colab": {
          "base_uri": "https://localhost:8080/"
        },
        "id": "M6hyMjfvIE0d",
        "outputId": "cb7bd3a3-fb26-4738-b56a-782ce68df4d0"
      },
      "source": [
        "links = ['https://habr.com/ru/company/timeweb/blog/586582/', 'https://habr.com/ru/company/plarium/blog/389469/',\n",
        "         'https://habr.com/ru/post/504056/', 'https://habr.com/ru/post/393729/']\n",
        "list_orig_keywords = []\n",
        "list_my_keywords = []\n",
        "texts = []\n",
        "for filename in os.listdir('/content/drive/MyDrive/Colab Notebooks/Автобрея'):\n",
        "    if filename.endswith('.txt'):\n",
        "        print('Скачано: ', filename)\n",
        "        orig_keywords, my_keywords, text = get_text_keywords('/content/drive/MyDrive/Colab Notebooks/Автобрея/'+filename)\n",
        "        list_orig_keywords.append(orig_keywords)\n",
        "        list_my_keywords.append(my_keywords)\n",
        "        texts.append(text)"
      ],
      "execution_count": 6,
      "outputs": [
        {
          "output_type": "stream",
          "name": "stdout",
          "text": [
            "Скачано:  Голос VHS: Василий Горчаков об озвучке кино и компьютерных игр.txt\n",
            "Скачано:  Кино и космос.txt\n",
            "Скачано:  Экстрасенсорные шпионы из Китая пытаются украсть восторг вашего разума: дроны в кино.txt\n",
            "Скачано:  Эффект звона в ушах в кино.txt\n"
          ]
        }
      ]
    },
    {
      "cell_type": "markdown",
      "metadata": {
        "id": "6lKPQBrvCfJH"
      },
      "source": [
        "Тексты и ключевые слова собираю в датафрейм."
      ]
    },
    {
      "cell_type": "code",
      "metadata": {
        "colab": {
          "base_uri": "https://localhost:8080/",
          "height": 241
        },
        "id": "kKTrDbw4HGFJ",
        "outputId": "41bc8cd0-92df-4b0a-c278-576040b86e3c"
      },
      "source": [
        "df = pd.DataFrame(links, columns = ['link'])\n",
        "df['link'] = links\n",
        "df['original_keywords'] = list_orig_keywords\n",
        "df['my_keywords'] = list_my_keywords\n",
        "df['text'] = texts\n",
        "df"
      ],
      "execution_count": 7,
      "outputs": [
        {
          "output_type": "execute_result",
          "data": {
            "text/html": [
              "<div>\n",
              "<style scoped>\n",
              "    .dataframe tbody tr th:only-of-type {\n",
              "        vertical-align: middle;\n",
              "    }\n",
              "\n",
              "    .dataframe tbody tr th {\n",
              "        vertical-align: top;\n",
              "    }\n",
              "\n",
              "    .dataframe thead th {\n",
              "        text-align: right;\n",
              "    }\n",
              "</style>\n",
              "<table border=\"1\" class=\"dataframe\">\n",
              "  <thead>\n",
              "    <tr style=\"text-align: right;\">\n",
              "      <th></th>\n",
              "      <th>link</th>\n",
              "      <th>original_keywords</th>\n",
              "      <th>my_keywords</th>\n",
              "      <th>text</th>\n",
              "    </tr>\n",
              "  </thead>\n",
              "  <tbody>\n",
              "    <tr>\n",
              "      <th>0</th>\n",
              "      <td>https://habr.com/ru/company/timeweb/blog/586582/</td>\n",
              "      <td>чужой, хищник, перевод, VHS, локализация, пере...</td>\n",
              "      <td>горчаков, чужой против хищник, игра конфликт, ...</td>\n",
              "      <td>Недавно один из легендарных переводчиков эпохи...</td>\n",
              "    </tr>\n",
              "    <tr>\n",
              "      <th>1</th>\n",
              "      <td>https://habr.com/ru/company/plarium/blog/389469/</td>\n",
              "      <td>история космонавтика, история кино, кино в кос...</td>\n",
              "      <td>шипенко, пересильд, шкаплеров, новицкий, кино ...</td>\n",
              "      <td>Недавно благополучно завершился полет киноэкип...</td>\n",
              "    </tr>\n",
              "    <tr>\n",
              "      <th>2</th>\n",
              "      <td>https://habr.com/ru/post/504056/</td>\n",
              "      <td>кинодрон, БПЛА, кино, dpi, hollywood</td>\n",
              "      <td>кинодрон, робототехника в кино, motion capture...</td>\n",
              "      <td>История о нашем первом проекте с кинодронами. ...</td>\n",
              "    </tr>\n",
              "    <tr>\n",
              "      <th>3</th>\n",
              "      <td>https://habr.com/ru/post/393729/</td>\n",
              "      <td>тиннитус, работа со звук, кинозвук</td>\n",
              "      <td>звуковой эффект, киноэффект, тиннитус</td>\n",
              "      <td>В фильме с повествованием от первого лица прои...</td>\n",
              "    </tr>\n",
              "  </tbody>\n",
              "</table>\n",
              "</div>"
            ],
            "text/plain": [
              "                                               link  ...                                               text\n",
              "0  https://habr.com/ru/company/timeweb/blog/586582/  ...  Недавно один из легендарных переводчиков эпохи...\n",
              "1  https://habr.com/ru/company/plarium/blog/389469/  ...  Недавно благополучно завершился полет киноэкип...\n",
              "2                  https://habr.com/ru/post/504056/  ...  История о нашем первом проекте с кинодронами. ...\n",
              "3                  https://habr.com/ru/post/393729/  ...  В фильме с повествованием от первого лица прои...\n",
              "\n",
              "[4 rows x 4 columns]"
            ]
          },
          "metadata": {},
          "execution_count": 7
        }
      ]
    },
    {
      "cell_type": "markdown",
      "metadata": {
        "id": "lwiVscvJCoEm"
      },
      "source": [
        "Можно посмотреть на них поближе.\n",
        "\n",
        "В моих ключевых словах больше слов из текста, чем в выделенных на сайте - я учитываю имена личностей, которые имеют важную роль в тексте, и беру их фамилии; в ключевых словах на сайте по какой-то непонятной схеме были взяты термины из текста вроде БПЛА, которые упоминались там всего раз или два - такие случаи я не учитывала."
      ]
    },
    {
      "cell_type": "code",
      "metadata": {
        "colab": {
          "base_uri": "https://localhost:8080/"
        },
        "id": "pizZU_7w_4bt",
        "outputId": "4f95ba50-aefa-4a6b-a55e-75d16f459e51"
      },
      "source": [
        "for i in range(4):\n",
        "    print('Данные ключ. слова:', df['original_keywords'].iloc[i])\n",
        "    print('Мои ключ. слова:', df['my_keywords'].iloc[i])\n",
        "    print('\\n')"
      ],
      "execution_count": 8,
      "outputs": [
        {
          "output_type": "stream",
          "name": "stdout",
          "text": [
            "Данные ключ. слова: чужой, хищник, перевод, VHS, локализация, переводчик, горчаков, интервью, кино\n",
            "Мои ключ. слова: горчаков, чужой против хищник, игра конфликт, перевод, перевод кино, перевод игра, голос озвучка, озвучивание фильмов\n",
            "\n",
            "\n",
            "Данные ключ. слова: история космонавтика, история кино, кино в космос, космос в кино, невесомость в кино, невесомость, спецэффект\n",
            "Мои ключ. слова: шипенко, пересильд, шкаплеров, новицкий, кино в космосе, история кино, спецэффект, научная фантастика, невесомость, вызов, история космонавтика\n",
            "\n",
            "\n",
            "Данные ключ. слова: кинодрон, БПЛА, кино, dpi, hollywood\n",
            "Мои ключ. слова: кинодрон, робототехника в кино, motion capture, фотограмметрия, камера\n",
            "\n",
            "\n",
            "Данные ключ. слова: тиннитус, работа со звук, кинозвук\n",
            "Мои ключ. слова: звуковой эффект, киноэффект, тиннитус\n",
            "\n",
            "\n"
          ]
        }
      ]
    },
    {
      "cell_type": "markdown",
      "metadata": {
        "id": "PnbewzldDIMZ"
      },
      "source": [
        "Я думаю, и мои, и ключевые слова на сайте отобраны вполне нормально.\n",
        "Термины, которые встречаются в тексте пару раз, я думаю, в конечном итоге тоже важны - и правда могут являться ключевыми словами.\n",
        "Можно совместить списки и убрать дубли - получается список эталонных ключевых слов в колонке ideal."
      ]
    },
    {
      "cell_type": "code",
      "metadata": {
        "id": "nRzdN0biDpow"
      },
      "source": [
        "list_ideal = []\n",
        "for y in range(4):\n",
        "    small_list = []\n",
        "    for i in df['my_keywords'].iloc[y].split(', '):\n",
        "        small_list.append(i)\n",
        "    for i in df['original_keywords'].iloc[y].split(', '):\n",
        "        small_list.append(i)\n",
        "    new_small_list = ', '.join(list(set(small_list)))\n",
        "    list_ideal.append(new_small_list)\n",
        "df['ideal'] = list_ideal"
      ],
      "execution_count": 9,
      "outputs": []
    },
    {
      "cell_type": "code",
      "metadata": {
        "colab": {
          "base_uri": "https://localhost:8080/",
          "height": 326
        },
        "id": "yevMu64_IEA0",
        "outputId": "f9f7cbe3-7ac9-49c2-cad9-05581a9442f7"
      },
      "source": [
        "df"
      ],
      "execution_count": 10,
      "outputs": [
        {
          "output_type": "execute_result",
          "data": {
            "text/html": [
              "<div>\n",
              "<style scoped>\n",
              "    .dataframe tbody tr th:only-of-type {\n",
              "        vertical-align: middle;\n",
              "    }\n",
              "\n",
              "    .dataframe tbody tr th {\n",
              "        vertical-align: top;\n",
              "    }\n",
              "\n",
              "    .dataframe thead th {\n",
              "        text-align: right;\n",
              "    }\n",
              "</style>\n",
              "<table border=\"1\" class=\"dataframe\">\n",
              "  <thead>\n",
              "    <tr style=\"text-align: right;\">\n",
              "      <th></th>\n",
              "      <th>link</th>\n",
              "      <th>original_keywords</th>\n",
              "      <th>my_keywords</th>\n",
              "      <th>text</th>\n",
              "      <th>ideal</th>\n",
              "    </tr>\n",
              "  </thead>\n",
              "  <tbody>\n",
              "    <tr>\n",
              "      <th>0</th>\n",
              "      <td>https://habr.com/ru/company/timeweb/blog/586582/</td>\n",
              "      <td>чужой, хищник, перевод, VHS, локализация, пере...</td>\n",
              "      <td>горчаков, чужой против хищник, игра конфликт, ...</td>\n",
              "      <td>Недавно один из легендарных переводчиков эпохи...</td>\n",
              "      <td>хищник, чужой, чужой против хищник, перевод ки...</td>\n",
              "    </tr>\n",
              "    <tr>\n",
              "      <th>1</th>\n",
              "      <td>https://habr.com/ru/company/plarium/blog/389469/</td>\n",
              "      <td>история космонавтика, история кино, кино в кос...</td>\n",
              "      <td>шипенко, пересильд, шкаплеров, новицкий, кино ...</td>\n",
              "      <td>Недавно благополучно завершился полет киноэкип...</td>\n",
              "      <td>шкаплеров, пересильд, научная фантастика, кино...</td>\n",
              "    </tr>\n",
              "    <tr>\n",
              "      <th>2</th>\n",
              "      <td>https://habr.com/ru/post/504056/</td>\n",
              "      <td>кинодрон, БПЛА, кино, dpi, hollywood</td>\n",
              "      <td>кинодрон, робототехника в кино, motion capture...</td>\n",
              "      <td>История о нашем первом проекте с кинодронами. ...</td>\n",
              "      <td>камера, робототехника в кино, motion capture, ...</td>\n",
              "    </tr>\n",
              "    <tr>\n",
              "      <th>3</th>\n",
              "      <td>https://habr.com/ru/post/393729/</td>\n",
              "      <td>тиннитус, работа со звук, кинозвук</td>\n",
              "      <td>звуковой эффект, киноэффект, тиннитус</td>\n",
              "      <td>В фильме с повествованием от первого лица прои...</td>\n",
              "      <td>работа со звук, киноэффект, кинозвук, тиннитус...</td>\n",
              "    </tr>\n",
              "  </tbody>\n",
              "</table>\n",
              "</div>"
            ],
            "text/plain": [
              "                                               link  ...                                              ideal\n",
              "0  https://habr.com/ru/company/timeweb/blog/586582/  ...  хищник, чужой, чужой против хищник, перевод ки...\n",
              "1  https://habr.com/ru/company/plarium/blog/389469/  ...  шкаплеров, пересильд, научная фантастика, кино...\n",
              "2                  https://habr.com/ru/post/504056/  ...  камера, робототехника в кино, motion capture, ...\n",
              "3                  https://habr.com/ru/post/393729/  ...  работа со звук, киноэффект, кинозвук, тиннитус...\n",
              "\n",
              "[4 rows x 5 columns]"
            ]
          },
          "metadata": {},
          "execution_count": 10
        }
      ]
    },
    {
      "cell_type": "markdown",
      "metadata": {
        "id": "P7ECJD73D6op"
      },
      "source": [
        "Попробую три метода извлечения ключевых слов - RAKE, TextRank и TF-IDF."
      ]
    },
    {
      "cell_type": "code",
      "metadata": {
        "id": "NJo2h22vcy53"
      },
      "source": [
        "def normalize_text(text):\n",
        "    lemmas = []\n",
        "    for t in simple_word_tokenize(text):\n",
        "        lemmas.append(\n",
        "            m.parse(t)[0].normal_form\n",
        "        )\n",
        "    return ' '.join(lemmas)"
      ],
      "execution_count": 11,
      "outputs": []
    },
    {
      "cell_type": "code",
      "metadata": {
        "id": "HXBzr3zGdQB1"
      },
      "source": [
        "lemma_texts = [normalize_text(text) for text in df['text'].values]"
      ],
      "execution_count": 12,
      "outputs": []
    },
    {
      "cell_type": "code",
      "metadata": {
        "id": "A_4AoLEnETtm"
      },
      "source": [
        "stop_words.append('который')\n",
        "stop_words.append('это')\n",
        "stop_words.append('нужный')"
      ],
      "execution_count": 13,
      "outputs": []
    },
    {
      "cell_type": "code",
      "metadata": {
        "id": "wegRCyrYgTYa"
      },
      "source": [
        "rake = RAKE.Rake(stop_words)\n",
        "rake_words_numbers = [rake.run(lemma_text, maxWords=2, minFrequency=2) for lemma_text in lemma_texts]\n",
        "rake_words = []\n",
        "for i in range(4):\n",
        "    rake_words.append(', '.join(word[0] for word in rake_words_numbers[i]))\n",
        "df['RAKE'] = rake_words"
      ],
      "execution_count": 14,
      "outputs": []
    },
    {
      "cell_type": "code",
      "metadata": {
        "colab": {
          "base_uri": "https://localhost:8080/"
        },
        "id": "ciZjuCpn-pY6",
        "outputId": "14cf2aa7-f4a4-4bfb-b30b-8d7cc480a34a"
      },
      "source": [
        "for i in range(4):\n",
        "    print('Rake:', df['RAKE'].iloc[i])\n",
        "    print('Мои ключ. слова:', df['my_keywords'].iloc[i])\n",
        "    print('\\n')"
      ],
      "execution_count": 15,
      "outputs": [
        {
          "output_type": "stream",
          "name": "stdout",
          "text": [
            "Rake: мочь переводить, честно говорить, переводить фильм, говорить актёр, голос, переводить, актёр, кино, фильм, что-, говорить, человек, какой-, знать, видеть, интересно, перевод, посмотреть, недавно, сеттинг, считать, хотя, участвовать, скажем, думать, наверное, экран, например, ранний, кроме, смотреть, сказать, ощущение, хотеть, картина, слышать, играть, работать, встречаться, помнить, озвучивать, наоборот, стараться, «, »\n",
            "Мои ключ. слова: горчаков, чужой против хищник, игра конфликт, перевод, перевод кино, перевод игра, голос озвучка, озвучивание фильмов\n",
            "\n",
            "\n",
            "Rake: настоящий невесомость, скорее весь, снятой космонавт, история кино, космос кадр, актёр, фильм, кадр, ракета, космонавтика, снятой, время, выйти, камера, орбита ”, известный, стать, полёт, стоять, запустить, всё, космос, снять, кино, “ женщина, оказаться, правда, ещё, земля, какой-, трос, видео, второй, иллюминатор, очень, результат, человечество, фон, например, встретить, хотеть, отправиться, мкс, полететь, увы, ”\n",
            "Мои ключ. слова: шипенко, пересильд, шкаплеров, новицкий, кино в космосе, история кино, спецэффект, научная фантастика, невесомость, вызов, история космонавтика\n",
            "\n",
            "\n",
            "Rake: следующий часть, управлять дрон, автономный дрон, процесс съёмка, летать камера, компания, камера, работа, дрон, использовать, технология, dji, использоваться, ещё, связать, кадр, оператор, предпросмотр, робототехника, робот, кино, кинодрон, тема, начать, например, сказать, похоже, недавно, сделать, развлечение, целое, кстати, киносъёмка, смотреть, человек, вертолёт, добавить, повторяемость, «\n",
            "Мои ключ. слова: кинодрон, робототехника в кино, motion capture, фотограмметрия, камера\n",
            "\n",
            "\n",
            "Rake: первый лицо, фильм, кино, звон, повествование, свист, мозг, ухо, тиннитус —, ухо —, взрыв, дело, большой, частота, пример, год, лишь\n",
            "Мои ключ. слова: звуковой эффект, киноэффект, тиннитус\n",
            "\n",
            "\n"
          ]
        }
      ]
    },
    {
      "cell_type": "markdown",
      "metadata": {
        "id": "nyK0TbGnFU6o"
      },
      "source": [
        "По RAKE, выделяется много глаголов и глагольных групп. Ключевых слов, возможно, слишком много. Многие ключевые слова повторяют друг друга, но, в целом, они соответствуют текстам. "
      ]
    },
    {
      "cell_type": "code",
      "metadata": {
        "id": "KAC3AA9MihgJ"
      },
      "source": [
        "textrank_words_numbers = [keywords.keywords(lemma_text, language='russian', \n",
        "                  additional_stopwords=stop_words, scores=True, ratio=0.05) for lemma_text in lemma_texts]\n",
        "textrank_words = []\n",
        "for i in range(4):\n",
        "    textrank_words.append(', '.join(word[0] for word in textrank_words_numbers[i]))\n",
        "df['TextRank'] = textrank_words"
      ],
      "execution_count": 16,
      "outputs": []
    },
    {
      "cell_type": "code",
      "metadata": {
        "id": "-fVHGUA7i_e3",
        "colab": {
          "base_uri": "https://localhost:8080/"
        },
        "outputId": "e8695d16-82f9-4972-dd85-ad8b18758123"
      },
      "source": [
        "for i in range(4):\n",
        "    print('TextRank:', df['TextRank'].iloc[i])\n",
        "    print('Мои ключ. слова:', df['my_keywords'].iloc[i])\n",
        "    print('\\n')"
      ],
      "execution_count": 17,
      "outputs": [
        {
          "output_type": "stream",
          "name": "stdout",
          "text": [
            "TextRank: фильм, перевод, переводить, игра, голос, актёр, переводчик, новый, свой, кино, год, поэтому, очень, говорить, первый, огромный, появиться, время, особенный, особенно, хороший\n",
            "Мои ключ. слова: горчаков, чужой против хищник, игра конфликт, перевод, перевод кино, перевод игра, голос озвучка, озвучивание фильмов\n",
            "\n",
            "\n",
            "TextRank: фильм, космонавт, снятой, снять, орбита стать первый, автоматический космический, камера, год, станция, лунный ракета, полёт, кадр, космос, больший, большой, картина, актёр, время, астронавт, показать, корабль, снимать, весь, космонавтика, выйти, появиться, луна, невесомость, затем, всё, сделать, женщина, технология, сценарий, автоматически, летать, американский\n",
            "Мои ключ. слова: шипенко, пересильд, шкаплеров, новицкий, кино в космосе, история кино, спецэффект, научная фантастика, невесомость, вызов, история космонавтика\n",
            "\n",
            "\n",
            "TextRank: дрон, dji, технология, использовать, использоваться, камера, время, съёмка, робот, всё, система, ещё, компания, кино, наш первый проект, работа, движение, часто, частый, часть, кадр, it, профессиональный, d, оператор, управление\n",
            "Мои ключ. слова: кинодрон, робототехника в кино, motion capture, фотограмметрия, камера\n",
            "\n",
            "\n",
            "TextRank: звон, ухо, уха, часто, частый, тиннитус, эффект, шум, часть слух, фильм, год, травма персонаж, кино, громкий, выстрел, тишина, свист, первый, of, свой, идти, слышать, частота\n",
            "Мои ключ. слова: звуковой эффект, киноэффект, тиннитус\n",
            "\n",
            "\n"
          ]
        }
      ]
    },
    {
      "cell_type": "markdown",
      "metadata": {
        "id": "j2QI2X6EFp52"
      },
      "source": [
        "По TextRank, выделяются, в основном, существительные и именные гуппы. Ключевые слова тоже иногда повторяют друг друга - один смысл разных частей речи. Но результат, на вид, лучше, чем по RAKE."
      ]
    },
    {
      "cell_type": "code",
      "metadata": {
        "id": "OGX5SsWejHTg"
      },
      "source": [
        "vectorizer = TfidfVectorizer(stop_words=stop_words, ngram_range=(1, 2))\n",
        "tfidf = vectorizer.fit_transform(lemma_texts)\n",
        "\n",
        "tfidf_words = []\n",
        "for i in range(len(lemma_texts)):\n",
        "    features = np.array(vectorizer.get_feature_names())\n",
        "    sort = np.argsort(tfidf[i].toarray()).ravel()[::-1]\n",
        "    keywords = features[sort][:10]\n",
        "    text_keywords = []\n",
        "    for keyword in keywords:\n",
        "        text_keywords.append(keyword)\n",
        "    tfidf_words.append(', '.join(word for word in text_keywords))\n",
        "df['TF-IDF'] = tfidf_words"
      ],
      "execution_count": 18,
      "outputs": []
    },
    {
      "cell_type": "code",
      "metadata": {
        "colab": {
          "base_uri": "https://localhost:8080/"
        },
        "id": "gk3HDvQ3yJMH",
        "outputId": "6487e7f5-2c83-417c-ba90-d468d0323d25"
      },
      "source": [
        "for i in range(4):\n",
        "    print('TF-IDF:', tfidf_words[i])\n",
        "    print('Мои ключ. слова:', df['my_keywords'].iloc[i])\n",
        "    print('\\n')"
      ],
      "execution_count": 19,
      "outputs": [
        {
          "output_type": "stream",
          "name": "stdout",
          "text": [
            "TF-IDF: фильм, переводить, голос, игра, говорить, актёр, переводчик, перевод, хищник, год\n",
            "Мои ключ. слова: горчаков, чужой против хищник, игра конфликт, перевод, перевод кино, перевод игра, голос озвучка, озвучивание фильмов\n",
            "\n",
            "\n",
            "TF-IDF: космос, космонавт, космический, ракета, год, снятой, фильм, камера, орбита, станция\n",
            "Мои ключ. слова: шипенко, пересильд, шкаплеров, новицкий, кино в космосе, история кино, спецэффект, научная фантастика, невесомость, вызов, история космонавтика\n",
            "\n",
            "\n",
            "TF-IDF: дрон, робот, dji, камера, кино, использоваться, технология, движение, компания, съёмка\n",
            "Мои ключ. слова: кинодрон, робототехника в кино, motion capture, фотограмметрия, камера\n",
            "\n",
            "\n",
            "TF-IDF: звон, ухо, тиннитус, травма, год, частота, шум, эффект, персонаж, внутренний\n",
            "Мои ключ. слова: звуковой эффект, киноэффект, тиннитус\n",
            "\n",
            "\n"
          ]
        }
      ]
    },
    {
      "cell_type": "markdown",
      "metadata": {
        "id": "fWE33WaEF8Fp"
      },
      "source": [
        "По TF-IDF я взяла всего 10 слов, и это, кажется, было верным решением - выделились только основные ключевые слова, которые дополняют мои ключевые слова. Иногда они тоже смыслово друг друга повторяют, но точно отражают свои тексты. На вид, думаю, это лучший результат."
      ]
    },
    {
      "cell_type": "code",
      "metadata": {
        "colab": {
          "base_uri": "https://localhost:8080/"
        },
        "id": "GcGJJEGOba4W",
        "outputId": "38a86611-d6ba-468a-e092-28aafe2687d6"
      },
      "source": [
        "def get_patterns(etalon):\n",
        "    patterns = []\n",
        "    for keywords in etalon:\n",
        "        keyword = keywords.split(', ')\n",
        "        for word in keyword:\n",
        "            tokens = word.split(' ')\n",
        "            pos = [m.parse(t)[0].tag.POS for t in tokens]\n",
        "            if None not in pos:\n",
        "                pattern = '+'.join(pos)\n",
        "            patterns.append(pattern)\n",
        "    return list(set(patterns))\n",
        "patterns = get_patterns(df['ideal'].values)\n",
        "patterns"
      ],
      "execution_count": 20,
      "outputs": [
        {
          "output_type": "execute_result",
          "data": {
            "text/plain": [
              "['NOUN', 'NOUN+PREP+NOUN']"
            ]
          },
          "metadata": {},
          "execution_count": 20
        }
      ]
    },
    {
      "cell_type": "markdown",
      "metadata": {
        "id": "MB-K8jUqGoQY"
      },
      "source": [
        "Получается, морфологические шаблоны ключевых слов - именные группы из существительных. Я ожидала еще глагольные группы.."
      ]
    },
    {
      "cell_type": "code",
      "metadata": {
        "id": "XS3-9PycUD_j"
      },
      "source": [
        "def patterns_filter(keywords, patterns):\n",
        "    filtered = []\n",
        "    for tokens in keywords.split(', '):\n",
        "        pos = [m.parse(token)[0].tag.POS for token in tokens.split(' ')]\n",
        "        if None not in pos:\n",
        "            pattern = '+'.join(pos)\n",
        "            if pattern in patterns:\n",
        "                filtered.append(tokens)\n",
        "    return filtered\n",
        "rake_filtered = [patterns_filter(words, patterns) for words in df['RAKE']]\n",
        "textrank_filtered = [patterns_filter(words, patterns) for words in df['TextRank']]\n",
        "tfidf_filtered = [patterns_filter(words, patterns) for words in df['TF-IDF']]"
      ],
      "execution_count": 21,
      "outputs": []
    },
    {
      "cell_type": "code",
      "metadata": {
        "colab": {
          "base_uri": "https://localhost:8080/"
        },
        "id": "M0YQonKfgoAN",
        "outputId": "9d3d9ca6-c116-4a80-c077-6d86e8376d53"
      },
      "source": [
        "for i in range(4):\n",
        "    print('RAKE:', df['RAKE'].iloc[i])\n",
        "    print('RAKE отфильтрованные:', ', '.join(rake_filtered[i]))\n",
        "    print('\\n')"
      ],
      "execution_count": 23,
      "outputs": [
        {
          "output_type": "stream",
          "name": "stdout",
          "text": [
            "RAKE: мочь переводить, честно говорить, переводить фильм, говорить актёр, голос, переводить, актёр, кино, фильм, что-, говорить, человек, какой-, знать, видеть, интересно, перевод, посмотреть, недавно, сеттинг, считать, хотя, участвовать, скажем, думать, наверное, экран, например, ранний, кроме, смотреть, сказать, ощущение, хотеть, картина, слышать, играть, работать, встречаться, помнить, озвучивать, наоборот, стараться, «, »\n",
            "RAKE отфильтрованные: голос, актёр, кино, фильм, человек, перевод, сеттинг, экран, ощущение, картина\n",
            "\n",
            "\n",
            "RAKE: настоящий невесомость, скорее весь, снятой космонавт, история кино, космос кадр, актёр, фильм, кадр, ракета, космонавтика, снятой, время, выйти, камера, орбита ”, известный, стать, полёт, стоять, запустить, всё, космос, снять, кино, “ женщина, оказаться, правда, ещё, земля, какой-, трос, видео, второй, иллюминатор, очень, результат, человечество, фон, например, встретить, хотеть, отправиться, мкс, полететь, увы, ”\n",
            "RAKE отфильтрованные: актёр, фильм, кадр, ракета, космонавтика, время, камера, полёт, космос, кино, земля, трос, видео, иллюминатор, результат, человечество, мкс\n",
            "\n",
            "\n",
            "RAKE: следующий часть, управлять дрон, автономный дрон, процесс съёмка, летать камера, компания, камера, работа, дрон, использовать, технология, dji, использоваться, ещё, связать, кадр, оператор, предпросмотр, робототехника, робот, кино, кинодрон, тема, начать, например, сказать, похоже, недавно, сделать, развлечение, целое, кстати, киносъёмка, смотреть, человек, вертолёт, добавить, повторяемость, «\n",
            "RAKE отфильтрованные: компания, камера, работа, дрон, технология, кадр, оператор, предпросмотр, робототехника, робот, кино, кинодрон, тема, развлечение, целое, киносъёмка, человек, вертолёт, повторяемость\n",
            "\n",
            "\n",
            "RAKE: первый лицо, фильм, кино, звон, повествование, свист, мозг, ухо, тиннитус —, ухо —, взрыв, дело, большой, частота, пример, год, лишь\n",
            "RAKE отфильтрованные: фильм, кино, звон, повествование, свист, мозг, ухо, взрыв, дело, частота, пример, год\n",
            "\n",
            "\n"
          ]
        }
      ]
    },
    {
      "cell_type": "code",
      "metadata": {
        "colab": {
          "base_uri": "https://localhost:8080/"
        },
        "id": "2XEwW2obgri0",
        "outputId": "66da9c32-4c40-4aa5-883c-d9e263ea492b"
      },
      "source": [
        "for i in range(4):\n",
        "    print('TextRank:', df['TextRank'].iloc[i])\n",
        "    print('TextRank отфильтрованные:', ', '.join(textrank_filtered[i]))\n",
        "    print('\\n')"
      ],
      "execution_count": 24,
      "outputs": [
        {
          "output_type": "stream",
          "name": "stdout",
          "text": [
            "TextRank: фильм, перевод, переводить, игра, голос, актёр, переводчик, новый, свой, кино, год, поэтому, очень, говорить, первый, огромный, появиться, время, особенный, особенно, хороший\n",
            "TextRank отфильтрованные: фильм, перевод, игра, голос, актёр, переводчик, кино, год, время\n",
            "\n",
            "\n",
            "TextRank: фильм, космонавт, снятой, снять, орбита стать первый, автоматический космический, камера, год, станция, лунный ракета, полёт, кадр, космос, больший, большой, картина, актёр, время, астронавт, показать, корабль, снимать, весь, космонавтика, выйти, появиться, луна, невесомость, затем, всё, сделать, женщина, технология, сценарий, автоматически, летать, американский\n",
            "TextRank отфильтрованные: фильм, космонавт, камера, год, станция, полёт, кадр, космос, картина, актёр, время, астронавт, корабль, космонавтика, луна, невесомость, женщина, технология, сценарий\n",
            "\n",
            "\n",
            "TextRank: дрон, dji, технология, использовать, использоваться, камера, время, съёмка, робот, всё, система, ещё, компания, кино, наш первый проект, работа, движение, часто, частый, часть, кадр, it, профессиональный, d, оператор, управление\n",
            "TextRank отфильтрованные: дрон, технология, камера, время, съёмка, робот, система, компания, кино, работа, движение, часть, кадр, оператор, управление\n",
            "\n",
            "\n",
            "TextRank: звон, ухо, уха, часто, частый, тиннитус, эффект, шум, часть слух, фильм, год, травма персонаж, кино, громкий, выстрел, тишина, свист, первый, of, свой, идти, слышать, частота\n",
            "TextRank отфильтрованные: звон, ухо, уха, тиннитус, эффект, шум, фильм, год, кино, выстрел, тишина, свист, частота\n",
            "\n",
            "\n"
          ]
        }
      ]
    },
    {
      "cell_type": "code",
      "metadata": {
        "colab": {
          "base_uri": "https://localhost:8080/"
        },
        "id": "8RG_XzItOyu0",
        "outputId": "a1c75fd8-874b-49fc-a664-632cc1507bc8"
      },
      "source": [
        "for i in range(4):\n",
        "    print('TF-IDF:', df['TF-IDF'].iloc[i])\n",
        "    print('TF-IDF отфильтрованные:', ', '.join(tfidf_filtered[i]))\n",
        "    print('\\n')"
      ],
      "execution_count": 25,
      "outputs": [
        {
          "output_type": "stream",
          "name": "stdout",
          "text": [
            "TF-IDF: фильм, переводить, голос, игра, говорить, актёр, переводчик, перевод, хищник, год\n",
            "TF-IDF отфильтрованные: фильм, голос, игра, актёр, переводчик, перевод, хищник, год\n",
            "\n",
            "\n",
            "TF-IDF: космос, космонавт, космический, ракета, год, снятой, фильм, камера, орбита, станция\n",
            "TF-IDF отфильтрованные: космос, космонавт, ракета, год, фильм, камера, орбита, станция\n",
            "\n",
            "\n",
            "TF-IDF: дрон, робот, dji, камера, кино, использоваться, технология, движение, компания, съёмка\n",
            "TF-IDF отфильтрованные: дрон, робот, камера, кино, технология, движение, компания, съёмка\n",
            "\n",
            "\n",
            "TF-IDF: звон, ухо, тиннитус, травма, год, частота, шум, эффект, персонаж, внутренний\n",
            "TF-IDF отфильтрованные: звон, ухо, тиннитус, травма, год, частота, шум, эффект, персонаж\n",
            "\n",
            "\n"
          ]
        }
      ]
    },
    {
      "cell_type": "markdown",
      "metadata": {
        "id": "Da1ZQ1DHh3Ae"
      },
      "source": [
        "Из-за отсутствия в шаблоне глагольных групп, списки ключевых слов при фильтрации уменьшились. Списки RAKE и TextRank стали значительно короче, а TF-IDF потерпел небольшие изменения."
      ]
    },
    {
      "cell_type": "markdown",
      "metadata": {
        "id": "B9nfQlSBnT3K"
      },
      "source": [
        "Не успела посчитать метрики(\n",
        "\n",
        "Обобщая мои наблюдения, лучший результат показал метод TF-IDF. RAKE выделяет больше глаголов и глагольных групп, TextRank работает лучше, чем RAKE, но они оба выделяют много лишнего. Одна из проблем, я думаю, заключается в том, что эти метрики выделяют не просто ключевые слова, но самые частотные слова - в таком случае надо тщательнее работать со списком стоп-слов и чистить тексты внимательнее. Кроме того, как и я в своих ключевых словах, метрики не выделяют единичные термины, важные для текста - все еще думаю, что не всегда стоит считать их ключевыми словами, но авторы habr решили для своих текстов так, поэтому в нашем случае, это, наверное, важно. Не знаю, как можно было бы решить именно эту проблему("
      ]
    }
  ]
}